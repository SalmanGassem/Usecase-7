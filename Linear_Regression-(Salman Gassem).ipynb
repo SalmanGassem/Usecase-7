{
 "cells": [
  {
   "cell_type": "markdown",
   "metadata": {},
   "source": [
    "## Import Libraries"
   ]
  },
  {
   "cell_type": "code",
   "execution_count": 103,
   "metadata": {},
   "outputs": [],
   "source": [
    "# To ignore warnings\n",
    "import warnings\n",
    "warnings.filterwarnings(\"ignore\")\n",
    "import pandas as pd\n",
    "import numpy as np\n",
    "import matplotlib.pyplot as plt\n",
    "import seaborn as sns\n",
    "\n",
    "from sklearn.model_selection import train_test_split\n",
    "from sklearn.metrics import mean_squared_error, r2_score, mean_absolute_error\n",
    "from sklearn.preprocessing import StandardScaler\n",
    "from sklearn.linear_model import LinearRegression\n",
    "from sklearn import metrics\n",
    "\n",
    "%matplotlib inline"
   ]
  },
  {
   "cell_type": "markdown",
   "metadata": {},
   "source": [
    "## Load the Data"
   ]
  },
  {
   "cell_type": "code",
   "execution_count": 104,
   "metadata": {},
   "outputs": [],
   "source": [
    "df = pd.read_csv(\"final_data_cleaned.csv\")"
   ]
  },
  {
   "cell_type": "code",
   "execution_count": 105,
   "metadata": {},
   "outputs": [
    {
     "data": {
      "text/plain": [
       "(6397, 19)"
      ]
     },
     "execution_count": 105,
     "metadata": {},
     "output_type": "execute_result"
    }
   ],
   "source": [
    "df.shape"
   ]
  },
  {
   "cell_type": "code",
   "execution_count": 106,
   "metadata": {
    "scrolled": true
   },
   "outputs": [
    {
     "data": {
      "text/html": [
       "<div>\n",
       "<style scoped>\n",
       "    .dataframe tbody tr th:only-of-type {\n",
       "        vertical-align: middle;\n",
       "    }\n",
       "\n",
       "    .dataframe tbody tr th {\n",
       "        vertical-align: top;\n",
       "    }\n",
       "\n",
       "    .dataframe thead th {\n",
       "        text-align: right;\n",
       "    }\n",
       "</style>\n",
       "<table border=\"1\" class=\"dataframe\">\n",
       "  <thead>\n",
       "    <tr style=\"text-align: right;\">\n",
       "      <th></th>\n",
       "      <th>Unnamed: 0</th>\n",
       "      <th>team</th>\n",
       "      <th>position</th>\n",
       "      <th>height</th>\n",
       "      <th>age</th>\n",
       "      <th>appearance</th>\n",
       "      <th>goals</th>\n",
       "      <th>assists</th>\n",
       "      <th>yellow cards</th>\n",
       "      <th>second yellow cards</th>\n",
       "      <th>red cards</th>\n",
       "      <th>goals conceded</th>\n",
       "      <th>clean sheets</th>\n",
       "      <th>minutes played</th>\n",
       "      <th>days_injured</th>\n",
       "      <th>games_injured</th>\n",
       "      <th>award</th>\n",
       "      <th>current_value</th>\n",
       "      <th>highest_value</th>\n",
       "    </tr>\n",
       "  </thead>\n",
       "  <tbody>\n",
       "    <tr>\n",
       "      <th>0</th>\n",
       "      <td>8</td>\n",
       "      <td>Manchester United</td>\n",
       "      <td>Defender Centre-Back</td>\n",
       "      <td>186.0</td>\n",
       "      <td>21.0</td>\n",
       "      <td>34.0</td>\n",
       "      <td>0.000000</td>\n",
       "      <td>0.000000</td>\n",
       "      <td>0.130529</td>\n",
       "      <td>0.0</td>\n",
       "      <td>0.0</td>\n",
       "      <td>0.0</td>\n",
       "      <td>0.0</td>\n",
       "      <td>2758.0</td>\n",
       "      <td>47.0</td>\n",
       "      <td>13.0</td>\n",
       "      <td>0.0</td>\n",
       "      <td>2000000.0</td>\n",
       "      <td>2000000.0</td>\n",
       "    </tr>\n",
       "    <tr>\n",
       "      <th>1</th>\n",
       "      <td>10</td>\n",
       "      <td>Manchester United</td>\n",
       "      <td>Defender Left-Back</td>\n",
       "      <td>169.0</td>\n",
       "      <td>23.0</td>\n",
       "      <td>89.0</td>\n",
       "      <td>0.012619</td>\n",
       "      <td>0.063096</td>\n",
       "      <td>0.227145</td>\n",
       "      <td>0.0</td>\n",
       "      <td>0.0</td>\n",
       "      <td>0.0</td>\n",
       "      <td>0.0</td>\n",
       "      <td>7132.0</td>\n",
       "      <td>182.0</td>\n",
       "      <td>15.0</td>\n",
       "      <td>3.0</td>\n",
       "      <td>22000000.0</td>\n",
       "      <td>22000000.0</td>\n",
       "    </tr>\n",
       "  </tbody>\n",
       "</table>\n",
       "</div>"
      ],
      "text/plain": [
       "   Unnamed: 0               team              position  height   age  \\\n",
       "0           8  Manchester United  Defender Centre-Back   186.0  21.0   \n",
       "1          10  Manchester United    Defender Left-Back   169.0  23.0   \n",
       "\n",
       "   appearance     goals   assists  yellow cards  second yellow cards  \\\n",
       "0        34.0  0.000000  0.000000      0.130529                  0.0   \n",
       "1        89.0  0.012619  0.063096      0.227145                  0.0   \n",
       "\n",
       "   red cards  goals conceded  clean sheets  minutes played  days_injured  \\\n",
       "0        0.0             0.0           0.0          2758.0          47.0   \n",
       "1        0.0             0.0           0.0          7132.0         182.0   \n",
       "\n",
       "   games_injured  award  current_value  highest_value  \n",
       "0           13.0    0.0      2000000.0      2000000.0  \n",
       "1           15.0    3.0     22000000.0     22000000.0  "
      ]
     },
     "execution_count": 106,
     "metadata": {},
     "output_type": "execute_result"
    }
   ],
   "source": [
    "df.head(2)"
   ]
  },
  {
   "cell_type": "markdown",
   "metadata": {},
   "source": [
    "## Preprocess the Data"
   ]
  },
  {
   "cell_type": "markdown",
   "metadata": {
    "jp-MarkdownHeadingCollapsed": true
   },
   "source": [
    "#### 1. Simple EDA + Data Quality checking"
   ]
  },
  {
   "cell_type": "code",
   "execution_count": 107,
   "metadata": {},
   "outputs": [
    {
     "data": {
      "text/html": [
       "<div>\n",
       "<style scoped>\n",
       "    .dataframe tbody tr th:only-of-type {\n",
       "        vertical-align: middle;\n",
       "    }\n",
       "\n",
       "    .dataframe tbody tr th {\n",
       "        vertical-align: top;\n",
       "    }\n",
       "\n",
       "    .dataframe thead th {\n",
       "        text-align: right;\n",
       "    }\n",
       "</style>\n",
       "<table border=\"1\" class=\"dataframe\">\n",
       "  <thead>\n",
       "    <tr style=\"text-align: right;\">\n",
       "      <th></th>\n",
       "      <th>Unnamed: 0</th>\n",
       "      <th>team</th>\n",
       "      <th>position</th>\n",
       "      <th>height</th>\n",
       "      <th>age</th>\n",
       "      <th>appearance</th>\n",
       "      <th>goals</th>\n",
       "      <th>assists</th>\n",
       "      <th>yellow cards</th>\n",
       "      <th>second yellow cards</th>\n",
       "      <th>red cards</th>\n",
       "      <th>goals conceded</th>\n",
       "      <th>clean sheets</th>\n",
       "      <th>minutes played</th>\n",
       "      <th>days_injured</th>\n",
       "      <th>games_injured</th>\n",
       "      <th>award</th>\n",
       "      <th>current_value</th>\n",
       "      <th>highest_value</th>\n",
       "    </tr>\n",
       "  </thead>\n",
       "  <tbody>\n",
       "  </tbody>\n",
       "</table>\n",
       "</div>"
      ],
      "text/plain": [
       "Empty DataFrame\n",
       "Columns: [Unnamed: 0, team, position, height, age, appearance, goals, assists, yellow cards, second yellow cards, red cards, goals conceded, clean sheets, minutes played, days_injured, games_injured, award, current_value, highest_value]\n",
       "Index: []"
      ]
     },
     "execution_count": 107,
     "metadata": {},
     "output_type": "execute_result"
    }
   ],
   "source": [
    "# uniqeness\n",
    "df[df.duplicated()]"
   ]
  },
  {
   "cell_type": "code",
   "execution_count": 108,
   "metadata": {},
   "outputs": [
    {
     "data": {
      "text/plain": [
       "Unnamed: 0             0\n",
       "team                   0\n",
       "position               0\n",
       "height                 0\n",
       "age                    0\n",
       "appearance             0\n",
       "goals                  0\n",
       "assists                0\n",
       "yellow cards           0\n",
       "second yellow cards    0\n",
       "red cards              0\n",
       "goals conceded         0\n",
       "clean sheets           0\n",
       "minutes played         0\n",
       "days_injured           0\n",
       "games_injured          0\n",
       "award                  0\n",
       "current_value          0\n",
       "highest_value          0\n",
       "dtype: int64"
      ]
     },
     "execution_count": 108,
     "metadata": {},
     "output_type": "execute_result"
    }
   ],
   "source": [
    "# Completeness\n",
    "df.isnull().sum()"
   ]
  },
  {
   "cell_type": "code",
   "execution_count": 109,
   "metadata": {},
   "outputs": [
    {
     "data": {
      "text/plain": [
       "Unnamed: 0               int64\n",
       "team                    object\n",
       "position                object\n",
       "height                 float64\n",
       "age                    float64\n",
       "appearance             float64\n",
       "goals                  float64\n",
       "assists                float64\n",
       "yellow cards           float64\n",
       "second yellow cards    float64\n",
       "red cards              float64\n",
       "goals conceded         float64\n",
       "clean sheets           float64\n",
       "minutes played         float64\n",
       "days_injured           float64\n",
       "games_injured          float64\n",
       "award                  float64\n",
       "current_value          float64\n",
       "highest_value          float64\n",
       "dtype: object"
      ]
     },
     "execution_count": 109,
     "metadata": {},
     "output_type": "execute_result"
    }
   ],
   "source": [
    "# Accurecy types\n",
    "df.dtypes"
   ]
  },
  {
   "cell_type": "code",
   "execution_count": 110,
   "metadata": {},
   "outputs": [],
   "source": [
    "# Accurecy - Outlier\n",
    "\n",
    "# Convert categorical variables using OneHotEncoding\n",
    "numerical_feats_2 = ['height', 'age', 'appearance', 'goals', 'assists',\n",
    "       'yellow cards', 'second yellow cards', 'red cards', 'goals conceded',\n",
    "       'clean sheets', 'minutes played', 'days_injured', 'games_injured',\n",
    "       'award', 'current_value', 'highest_value']\n",
    "\n",
    "cetegorical_feats_2 = ['team', 'position']"
   ]
  },
  {
   "cell_type": "code",
   "execution_count": 111,
   "metadata": {},
   "outputs": [
    {
     "name": "stdout",
     "output_type": "stream",
     "text": [
      "team\n",
      "Huddersfield Town    29\n",
      "Orlando Pirates      27\n",
      "Cardiff City         26\n",
      "Portimonense SC      26\n",
      "Watford FC           26\n",
      "                     ..\n",
      "Bayern Munich         2\n",
      "Gaziantep FK          2\n",
      "Manchester City       2\n",
      "FC Barcelona          2\n",
      "Real Madrid           1\n",
      "Name: count, Length: 374, dtype: int64\n",
      "position\n",
      "Defender Centre-Back          1247\n",
      "midfield-CentralMidfield       767\n",
      "Attack Centre-Forward          667\n",
      "midfield-DefensiveMidfield     616\n",
      "Defender Right-Back            582\n",
      "Defender Left-Back             566\n",
      "Attack-RightWinger             469\n",
      "midfield-AttackingMidfield     466\n",
      "Attack-LeftWinger              427\n",
      "Goalkeeper                     423\n",
      "midfield-LeftMidfield           65\n",
      "midfield-RightMidfield          61\n",
      "Attack-SecondStriker            36\n",
      "midfield                         3\n",
      "Defender                         1\n",
      "Attack                           1\n",
      "Name: count, dtype: int64\n"
     ]
    }
   ],
   "source": [
    "# looping through the categorical columns and counting them\n",
    "# if a category is only 1, we will treat it as an outlier\n",
    "for i in cetegorical_feats_2:\n",
    "    print(df[i].value_counts())"
   ]
  },
  {
   "cell_type": "code",
   "execution_count": 112,
   "metadata": {},
   "outputs": [],
   "source": [
    "# Calculate the frequency of each 'Type'\n",
    "type_counts = df['team'].value_counts()\n",
    "\n",
    "# Filter 'Type' values that appear 10 or more times\n",
    "df = df[df['team'].isin(type_counts[type_counts >= 2].index)]"
   ]
  },
  {
   "cell_type": "code",
   "execution_count": 113,
   "metadata": {},
   "outputs": [],
   "source": [
    "# Calculate the frequency of each 'Type'\n",
    "type_counts = df['position'].value_counts()\n",
    "\n",
    "# Filter 'Type' values that appear 10 or more times\n",
    "df = df[df['position'].isin(type_counts[type_counts >= 2].index)]"
   ]
  },
  {
   "cell_type": "code",
   "execution_count": 114,
   "metadata": {},
   "outputs": [
    {
     "name": "stdout",
     "output_type": "stream",
     "text": [
      "team\n",
      "Huddersfield Town    29\n",
      "Orlando Pirates      27\n",
      "Watford FC           26\n",
      "Blackpool FC         26\n",
      "Portimonense SC      26\n",
      "                     ..\n",
      "Arsenal FC            4\n",
      "Gaziantep FK          2\n",
      "Bayern Munich         2\n",
      "Manchester City       2\n",
      "FC Barcelona          2\n",
      "Name: count, Length: 373, dtype: int64\n",
      "position\n",
      "Defender Centre-Back          1247\n",
      "midfield-CentralMidfield       767\n",
      "Attack Centre-Forward          666\n",
      "midfield-DefensiveMidfield     616\n",
      "Defender Right-Back            582\n",
      "Defender Left-Back             566\n",
      "Attack-RightWinger             469\n",
      "midfield-AttackingMidfield     466\n",
      "Attack-LeftWinger              427\n",
      "Goalkeeper                     423\n",
      "midfield-LeftMidfield           65\n",
      "midfield-RightMidfield          61\n",
      "Attack-SecondStriker            36\n",
      "midfield                         3\n",
      "Name: count, dtype: int64\n"
     ]
    }
   ],
   "source": [
    "# looping through the categorical columns and counting them\n",
    "# if a category is only 1, we will treat it as an outlier\n",
    "for i in cetegorical_feats_2:\n",
    "    print(df[i].value_counts())"
   ]
  },
  {
   "cell_type": "code",
   "execution_count": 115,
   "metadata": {},
   "outputs": [
    {
     "data": {
      "image/png": "[encoded data removed]",
      "text/plain": [
       "<Figure size 640x480 with 1 Axes>"
      ]
     },
     "metadata": {},
     "output_type": "display_data"
    },
    {
     "data": {
      "image/png": "[encoded data removed]",
      "text/plain": [
       "<Figure size 640x480 with 1 Axes>"
      ]
     },
     "metadata": {},
     "output_type": "display_data"
    },
    {
     "data": {
      "image/png": "[encoded data removed]",
      "text/plain": [
       "<Figure size 640x480 with 1 Axes>"
      ]
     },
     "metadata": {},
     "output_type": "display_data"
    },
    {
     "data": {
      "image/png": "[encoded data removed]",
      "text/plain": [
       "<Figure size 640x480 with 1 Axes>"
      ]
     },
     "metadata": {},
     "output_type": "display_data"
    },
    {
     "data": {
      "image/png": "[encoded data removed]",
      "text/plain": [
       "<Figure size 640x480 with 1 Axes>"
      ]
     },
     "metadata": {},
     "output_type": "display_data"
    },
    {
     "data": {
      "image/png": "[encoded data removed]",
      "text/plain": [
       "<Figure size 640x480 with 1 Axes>"
      ]
     },
     "metadata": {},
     "output_type": "display_data"
    },
    {
     "data": {
      "image/png": "[encoded data removed]",
      "text/plain": [
       "<Figure size 640x480 with 1 Axes>"
      ]
     },
     "metadata": {},
     "output_type": "display_data"
    },
    {
     "data": {
      "image/png": "[encoded data removed]",
      "text/plain": [
       "<Figure size 640x480 with 1 Axes>"
      ]
     },
     "metadata": {},
     "output_type": "display_data"
    },
    {
     "data": {
      "image/png": "[encoded data removed]",
      "text/plain": [
       "<Figure size 640x480 with 1 Axes>"
      ]
     },
     "metadata": {},
     "output_type": "display_data"
    },
    {
     "data": {
      "image/png": "[encoded data removed]",
      "text/plain": [
       "<Figure size 640x480 with 1 Axes>"
      ]
     },
     "metadata": {},
     "output_type": "display_data"
    },
    {
     "data": {
      "image/png": "[encoded data removed]",
      "text/plain": [
       "<Figure size 640x480 with 1 Axes>"
      ]
     },
     "metadata": {},
     "output_type": "display_data"
    },
    {
     "data": {
      "image/png": "[encoded data removed]",
      "text/plain": [
       "<Figure size 640x480 with 1 Axes>"
      ]
     },
     "metadata": {},
     "output_type": "display_data"
    },
    {
     "data": {
      "image/png": "[encoded data removed]",
      "text/plain": [
       "<Figure size 640x480 with 1 Axes>"
      ]
     },
     "metadata": {},
     "output_type": "display_data"
    },
    {
     "data": {
      "image/png": "[encoded data removed]",
      "text/plain": [
       "<Figure size 640x480 with 1 Axes>"
      ]
     },
     "metadata": {},
     "output_type": "display_data"
    },
    {
     "data": {
      "image/png": "[encoded data removed]",
      "text/plain": [
       "<Figure size 640x480 with 1 Axes>"
      ]
     },
     "metadata": {},
     "output_type": "display_data"
    },
    {
     "data": {
      "image/png": "[encoded data removed]",
      "text/plain": [
       "<Figure size 640x480 with 1 Axes>"
      ]
     },
     "metadata": {},
     "output_type": "display_data"
    }
   ],
   "source": [
    "# looping through the numerical columns and plotting them\n",
    "# to help detect outliers\n",
    "for i in numerical_feats_2:\n",
    "    plt.hist(df[i]);\n",
    "    plt.title(i)\n",
    "    plt.show()"
   ]
  },
  {
   "cell_type": "code",
   "execution_count": 116,
   "metadata": {},
   "outputs": [
    {
     "data": {
      "text/plain": [
       "Index(['Unnamed: 0', 'team', 'position', 'height', 'age', 'appearance',\n",
       "       'goals', 'assists', 'yellow cards', 'second yellow cards', 'red cards',\n",
       "       'goals conceded', 'clean sheets', 'minutes played', 'days_injured',\n",
       "       'games_injured', 'award', 'current_value', 'highest_value'],\n",
       "      dtype='object')"
      ]
     },
     "execution_count": 116,
     "metadata": {},
     "output_type": "execute_result"
    }
   ],
   "source": [
    "df.columns"
   ]
  },
  {
   "cell_type": "code",
   "execution_count": 117,
   "metadata": {},
   "outputs": [],
   "source": [
    "# removing the unnamed column\n",
    "df.drop(columns='Unnamed: 0', inplace=True)"
   ]
  },
  {
   "cell_type": "code",
   "execution_count": 118,
   "metadata": {},
   "outputs": [
    {
     "data": {
      "text/plain": [
       "Index(['team', 'position', 'height', 'age', 'appearance', 'goals', 'assists',\n",
       "       'yellow cards', 'second yellow cards', 'red cards', 'goals conceded',\n",
       "       'clean sheets', 'minutes played', 'days_injured', 'games_injured',\n",
       "       'award', 'current_value', 'highest_value'],\n",
       "      dtype='object')"
      ]
     },
     "execution_count": 118,
     "metadata": {},
     "output_type": "execute_result"
    }
   ],
   "source": [
    "df.columns"
   ]
  },
  {
   "cell_type": "markdown",
   "metadata": {},
   "source": [
    "#### 2. Feature engineering"
   ]
  },
  {
   "cell_type": "markdown",
   "metadata": {},
   "source": [
    "1. Feature scaling\n",
    "2. Aggregation\n",
    "3. One hot coding"
   ]
  },
  {
   "cell_type": "code",
   "execution_count": 119,
   "metadata": {},
   "outputs": [
    {
     "data": {
      "text/html": [
       "<div>\n",
       "<style scoped>\n",
       "    .dataframe tbody tr th:only-of-type {\n",
       "        vertical-align: middle;\n",
       "    }\n",
       "\n",
       "    .dataframe tbody tr th {\n",
       "        vertical-align: top;\n",
       "    }\n",
       "\n",
       "    .dataframe thead th {\n",
       "        text-align: right;\n",
       "    }\n",
       "</style>\n",
       "<table border=\"1\" class=\"dataframe\">\n",
       "  <thead>\n",
       "    <tr style=\"text-align: right;\">\n",
       "      <th></th>\n",
       "      <th>team</th>\n",
       "      <th>position</th>\n",
       "      <th>height</th>\n",
       "      <th>age</th>\n",
       "      <th>appearance</th>\n",
       "      <th>goals</th>\n",
       "      <th>assists</th>\n",
       "      <th>yellow cards</th>\n",
       "      <th>second yellow cards</th>\n",
       "      <th>red cards</th>\n",
       "      <th>goals conceded</th>\n",
       "      <th>clean sheets</th>\n",
       "      <th>minutes played</th>\n",
       "      <th>days_injured</th>\n",
       "      <th>games_injured</th>\n",
       "      <th>award</th>\n",
       "      <th>current_value</th>\n",
       "      <th>highest_value</th>\n",
       "    </tr>\n",
       "  </thead>\n",
       "  <tbody>\n",
       "    <tr>\n",
       "      <th>0</th>\n",
       "      <td>Manchester United</td>\n",
       "      <td>Defender Centre-Back</td>\n",
       "      <td>186.0</td>\n",
       "      <td>21.0</td>\n",
       "      <td>34.0</td>\n",
       "      <td>0.000000</td>\n",
       "      <td>0.000000</td>\n",
       "      <td>0.130529</td>\n",
       "      <td>0.0</td>\n",
       "      <td>0.0</td>\n",
       "      <td>0.0</td>\n",
       "      <td>0.0</td>\n",
       "      <td>2758.0</td>\n",
       "      <td>47.0</td>\n",
       "      <td>13.0</td>\n",
       "      <td>0.0</td>\n",
       "      <td>2000000.0</td>\n",
       "      <td>2000000.0</td>\n",
       "    </tr>\n",
       "    <tr>\n",
       "      <th>1</th>\n",
       "      <td>Manchester United</td>\n",
       "      <td>Defender Left-Back</td>\n",
       "      <td>169.0</td>\n",
       "      <td>23.0</td>\n",
       "      <td>89.0</td>\n",
       "      <td>0.012619</td>\n",
       "      <td>0.063096</td>\n",
       "      <td>0.227145</td>\n",
       "      <td>0.0</td>\n",
       "      <td>0.0</td>\n",
       "      <td>0.0</td>\n",
       "      <td>0.0</td>\n",
       "      <td>7132.0</td>\n",
       "      <td>182.0</td>\n",
       "      <td>15.0</td>\n",
       "      <td>3.0</td>\n",
       "      <td>22000000.0</td>\n",
       "      <td>22000000.0</td>\n",
       "    </tr>\n",
       "  </tbody>\n",
       "</table>\n",
       "</div>"
      ],
      "text/plain": [
       "                team              position  height   age  appearance  \\\n",
       "0  Manchester United  Defender Centre-Back   186.0  21.0        34.0   \n",
       "1  Manchester United    Defender Left-Back   169.0  23.0        89.0   \n",
       "\n",
       "      goals   assists  yellow cards  second yellow cards  red cards  \\\n",
       "0  0.000000  0.000000      0.130529                  0.0        0.0   \n",
       "1  0.012619  0.063096      0.227145                  0.0        0.0   \n",
       "\n",
       "   goals conceded  clean sheets  minutes played  days_injured  games_injured  \\\n",
       "0             0.0           0.0          2758.0          47.0           13.0   \n",
       "1             0.0           0.0          7132.0         182.0           15.0   \n",
       "\n",
       "   award  current_value  highest_value  \n",
       "0    0.0      2000000.0      2000000.0  \n",
       "1    3.0     22000000.0     22000000.0  "
      ]
     },
     "execution_count": 119,
     "metadata": {},
     "output_type": "execute_result"
    }
   ],
   "source": [
    "df.head(2)"
   ]
  },
  {
   "cell_type": "code",
   "execution_count": 120,
   "metadata": {},
   "outputs": [],
   "source": [
    "# numerical_feats_2\n",
    "\n",
    "# cetegorical_feats_2"
   ]
  },
  {
   "cell_type": "code",
   "execution_count": 121,
   "metadata": {},
   "outputs": [
    {
     "data": {
      "text/plain": [
       "['team', 'position']"
      ]
     },
     "execution_count": 121,
     "metadata": {},
     "output_type": "execute_result"
    }
   ],
   "source": [
    "cetegorical_feats_2"
   ]
  },
  {
   "cell_type": "code",
   "execution_count": 122,
   "metadata": {},
   "outputs": [
    {
     "data": {
      "text/plain": [
       "(6394, 18)"
      ]
     },
     "execution_count": 122,
     "metadata": {},
     "output_type": "execute_result"
    }
   ],
   "source": [
    "df.shape"
   ]
  },
  {
   "cell_type": "code",
   "execution_count": 123,
   "metadata": {},
   "outputs": [],
   "source": [
    "# one hot coding\n",
    "df = pd.get_dummies(df, columns=cetegorical_feats_2)"
   ]
  },
  {
   "cell_type": "code",
   "execution_count": 124,
   "metadata": {},
   "outputs": [
    {
     "data": {
      "text/plain": [
       "(6394, 403)"
      ]
     },
     "execution_count": 124,
     "metadata": {},
     "output_type": "execute_result"
    }
   ],
   "source": [
    "df.shape"
   ]
  },
  {
   "cell_type": "code",
   "execution_count": 125,
   "metadata": {},
   "outputs": [
    {
     "data": {
      "text/html": [
       "<div>\n",
       "<style scoped>\n",
       "    .dataframe tbody tr th:only-of-type {\n",
       "        vertical-align: middle;\n",
       "    }\n",
       "\n",
       "    .dataframe tbody tr th {\n",
       "        vertical-align: top;\n",
       "    }\n",
       "\n",
       "    .dataframe thead th {\n",
       "        text-align: right;\n",
       "    }\n",
       "</style>\n",
       "<table border=\"1\" class=\"dataframe\">\n",
       "  <thead>\n",
       "    <tr style=\"text-align: right;\">\n",
       "      <th></th>\n",
       "      <th>height</th>\n",
       "      <th>age</th>\n",
       "      <th>appearance</th>\n",
       "      <th>goals</th>\n",
       "      <th>assists</th>\n",
       "      <th>yellow cards</th>\n",
       "      <th>second yellow cards</th>\n",
       "      <th>red cards</th>\n",
       "      <th>goals conceded</th>\n",
       "      <th>clean sheets</th>\n",
       "      <th>...</th>\n",
       "      <th>position_Defender Centre-Back</th>\n",
       "      <th>position_Defender Left-Back</th>\n",
       "      <th>position_Defender Right-Back</th>\n",
       "      <th>position_Goalkeeper</th>\n",
       "      <th>position_midfield</th>\n",
       "      <th>position_midfield-AttackingMidfield</th>\n",
       "      <th>position_midfield-CentralMidfield</th>\n",
       "      <th>position_midfield-DefensiveMidfield</th>\n",
       "      <th>position_midfield-LeftMidfield</th>\n",
       "      <th>position_midfield-RightMidfield</th>\n",
       "    </tr>\n",
       "  </thead>\n",
       "  <tbody>\n",
       "    <tr>\n",
       "      <th>0</th>\n",
       "      <td>186.0</td>\n",
       "      <td>21.0</td>\n",
       "      <td>34.0</td>\n",
       "      <td>0.000000</td>\n",
       "      <td>0.000000</td>\n",
       "      <td>0.130529</td>\n",
       "      <td>0.0</td>\n",
       "      <td>0.0</td>\n",
       "      <td>0.0</td>\n",
       "      <td>0.0</td>\n",
       "      <td>...</td>\n",
       "      <td>True</td>\n",
       "      <td>False</td>\n",
       "      <td>False</td>\n",
       "      <td>False</td>\n",
       "      <td>False</td>\n",
       "      <td>False</td>\n",
       "      <td>False</td>\n",
       "      <td>False</td>\n",
       "      <td>False</td>\n",
       "      <td>False</td>\n",
       "    </tr>\n",
       "    <tr>\n",
       "      <th>1</th>\n",
       "      <td>169.0</td>\n",
       "      <td>23.0</td>\n",
       "      <td>89.0</td>\n",
       "      <td>0.012619</td>\n",
       "      <td>0.063096</td>\n",
       "      <td>0.227145</td>\n",
       "      <td>0.0</td>\n",
       "      <td>0.0</td>\n",
       "      <td>0.0</td>\n",
       "      <td>0.0</td>\n",
       "      <td>...</td>\n",
       "      <td>False</td>\n",
       "      <td>True</td>\n",
       "      <td>False</td>\n",
       "      <td>False</td>\n",
       "      <td>False</td>\n",
       "      <td>False</td>\n",
       "      <td>False</td>\n",
       "      <td>False</td>\n",
       "      <td>False</td>\n",
       "      <td>False</td>\n",
       "    </tr>\n",
       "  </tbody>\n",
       "</table>\n",
       "<p>2 rows × 403 columns</p>\n",
       "</div>"
      ],
      "text/plain": [
       "   height   age  appearance     goals   assists  yellow cards  \\\n",
       "0   186.0  21.0        34.0  0.000000  0.000000      0.130529   \n",
       "1   169.0  23.0        89.0  0.012619  0.063096      0.227145   \n",
       "\n",
       "   second yellow cards  red cards  goals conceded  clean sheets  ...  \\\n",
       "0                  0.0        0.0             0.0           0.0  ...   \n",
       "1                  0.0        0.0             0.0           0.0  ...   \n",
       "\n",
       "   position_Defender Centre-Back  position_Defender Left-Back  \\\n",
       "0                           True                        False   \n",
       "1                          False                         True   \n",
       "\n",
       "   position_Defender Right-Back  position_Goalkeeper  position_midfield  \\\n",
       "0                         False                False              False   \n",
       "1                         False                False              False   \n",
       "\n",
       "   position_midfield-AttackingMidfield  position_midfield-CentralMidfield  \\\n",
       "0                                False                              False   \n",
       "1                                False                              False   \n",
       "\n",
       "   position_midfield-DefensiveMidfield  position_midfield-LeftMidfield  \\\n",
       "0                                False                           False   \n",
       "1                                False                           False   \n",
       "\n",
       "   position_midfield-RightMidfield  \n",
       "0                            False  \n",
       "1                            False  \n",
       "\n",
       "[2 rows x 403 columns]"
      ]
     },
     "execution_count": 125,
     "metadata": {},
     "output_type": "execute_result"
    }
   ],
   "source": [
    "df.head(2)"
   ]
  },
  {
   "cell_type": "markdown",
   "metadata": {},
   "source": [
    "#### 3. Feature selection"
   ]
  },
  {
   "cell_type": "code",
   "execution_count": 126,
   "metadata": {},
   "outputs": [],
   "source": [
    "# sns.heatmap(correlation, annot=True);"
   ]
  },
  {
   "cell_type": "code",
   "execution_count": 127,
   "metadata": {},
   "outputs": [],
   "source": [
    "correlation = df.corr()"
   ]
  },
  {
   "cell_type": "code",
   "execution_count": 128,
   "metadata": {},
   "outputs": [
    {
     "name": "stdout",
     "output_type": "stream",
     "text": [
      "current_value           1.000000\n",
      "highest_value           0.866758\n",
      "appearance              0.408822\n",
      "minutes played          0.408235\n",
      "team_Aston Villa        0.161310\n",
      "                          ...   \n",
      "team_Orlando Pirates   -0.029575\n",
      "team_Gwangju FC        -0.029921\n",
      "position_Goalkeeper    -0.031118\n",
      "goals conceded         -0.032060\n",
      "age                    -0.130595\n",
      "Name: current_value, Length: 403, dtype: float64\n"
     ]
    }
   ],
   "source": [
    "print(correlation['current_value'].sort_values(ascending=False))"
   ]
  },
  {
   "cell_type": "code",
   "execution_count": 129,
   "metadata": {},
   "outputs": [
    {
     "name": "stdout",
     "output_type": "stream",
     "text": [
      "1.0\n",
      "0.8667582641399648\n",
      "0.4088216074673914\n",
      "0.40823468887112085\n",
      "0.1613097088518162\n",
      "0.1507634580871357\n",
      "0.1380324375387504\n",
      "0.13748104637036793\n",
      "0.131021273265285\n",
      "0.13090550195688508\n",
      "0.1259097880980194\n",
      "0.12506963315208602\n",
      "0.12108330343428336\n",
      "0.11839266504818485\n",
      "0.11559511778898383\n",
      "0.11540993342282804\n",
      "0.11355262358038011\n",
      "0.11331553827306634\n",
      "0.11199727621163268\n",
      "0.11030032559040817\n",
      "0.10990275112513642\n",
      "0.10322878202737186\n",
      "0.09750796219046468\n",
      "0.09720859710910414\n",
      "0.09319076767356936\n",
      "0.09310218741884378\n",
      "0.0904855818459967\n",
      "0.08755969556091163\n",
      "0.0871782418826087\n",
      "0.08346845541797163\n",
      "0.08236328543734285\n",
      "0.08203957101386021\n",
      "0.08194457339566724\n",
      "0.07904446136290615\n",
      "0.07724747935847338\n",
      "0.07665531925846181\n",
      "0.07604117349518007\n",
      "0.07518789613606881\n",
      "0.0737574725701498\n",
      "0.07224194334695669\n",
      "0.07146523993229993\n",
      "0.07056029127510718\n",
      "0.07019778072153218\n",
      "0.06851588834842152\n",
      "0.0666305073472641\n",
      "0.06594010239848407\n",
      "0.06340969186883069\n",
      "0.0626992753244002\n",
      "0.061806698222335935\n",
      "0.060797469820602294\n",
      "0.0538440837688976\n",
      "0.053686475330162\n",
      "0.05337850165348618\n",
      "0.05277945184510206\n",
      "0.051841031746829545\n",
      "0.05134882248359805\n",
      "0.05058299390083641\n",
      "0.04977982657643596\n",
      "0.04813004366047484\n",
      "0.04307497405728001\n",
      "0.04232630121535509\n",
      "0.04230780175465414\n",
      "0.042155348216335035\n",
      "0.04188660902580009\n",
      "0.03990730081486457\n",
      "0.03894692059932522\n",
      "0.03851569961660979\n",
      "0.0374813434558531\n",
      "0.03599645599322416\n",
      "0.034989578090815356\n",
      "0.032048468831290616\n",
      "0.03188575045424338\n",
      "0.029646438087802995\n",
      "0.025783008280812904\n",
      "0.02428325844193112\n",
      "0.02401845588724134\n",
      "0.023986691902200465\n",
      "0.023773561580624842\n",
      "0.02340645427890761\n",
      "0.022496379807423902\n",
      "0.021038611163242866\n",
      "0.021003981201948723\n",
      "0.018064750350683802\n",
      "0.017915663821200533\n",
      "0.01764073297862769\n",
      "0.017423720399676747\n",
      "0.01677299256787767\n",
      "0.016369292621437177\n",
      "0.015585155448392283\n",
      "0.015199979546484006\n",
      "0.014589208868985603\n",
      "0.014307448348555322\n",
      "0.014045354841815407\n",
      "0.013279241169244916\n",
      "0.013245503463724944\n",
      "0.012590692928446664\n",
      "0.01229737142527072\n",
      "0.011350136183881884\n",
      "0.010560399817280453\n",
      "0.010385857285603085\n",
      "0.010219300537267864\n",
      "0.009872272414281593\n",
      "0.008884941998150875\n",
      "0.008202092793546467\n",
      "0.007518029270579817\n",
      "0.007231736719066305\n",
      "0.007130498082389464\n",
      "0.006227600395853248\n",
      "0.005453437979925157\n",
      "0.0053481397977116745\n",
      "0.0053351645285346135\n",
      "0.004821809543355268\n",
      "0.004746714407000522\n",
      "0.004194224341347243\n",
      "0.003990834152575884\n",
      "0.003784040442772253\n",
      "0.003742362995901504\n",
      "0.003718864876758838\n",
      "0.0032685006989946076\n",
      "0.002457278192053187\n",
      "0.002340224561044317\n",
      "0.0023362965353401375\n",
      "0.001859607389877349\n",
      "0.0017886817403901447\n",
      "0.0012080587041903366\n",
      "0.0011196372167762275\n",
      "0.0007105666422319855\n",
      "0.0007048738789218878\n",
      "0.0002820030324221094\n",
      "-0.0002563532096474956\n",
      "-0.00035908574014700676\n",
      "-0.0003607197053084848\n",
      "-0.0007034559745347397\n",
      "-0.0010882557180044066\n",
      "-0.0012139304485895403\n",
      "-0.0014540424767249052\n",
      "-0.0018901205714802226\n",
      "-0.001915106405905554\n",
      "-0.0019524571732426042\n",
      "-0.00208002729784471\n",
      "-0.0021636039205160276\n",
      "-0.0023035390144331334\n",
      "-0.0026631763240591746\n",
      "-0.002812642237990658\n",
      "-0.0028872879927689596\n",
      "-0.003020827197248976\n",
      "-0.004973116820271321\n",
      "-0.004973116820271342\n",
      "-0.005157583984449672\n",
      "-0.005254721395351524\n",
      "-0.005536451466807054\n",
      "-0.00557655987559454\n",
      "-0.006002458334473861\n",
      "-0.006213169106571209\n",
      "-0.006828623821858455\n",
      "-0.006892773884609486\n",
      "-0.006925720547022087\n",
      "-0.00720666794445775\n",
      "-0.0072997036775298485\n",
      "-0.0074788604160021515\n",
      "-0.0074851878378046225\n",
      "-0.007654871904329659\n",
      "-0.007782484225231711\n",
      "-0.00786683588253011\n",
      "-0.007966741870011928\n",
      "-0.007980928577608515\n",
      "-0.00820545752710252\n",
      "-0.008402919666879078\n",
      "-0.008596392098784114\n",
      "-0.008774179376276676\n",
      "-0.00945894543855205\n",
      "-0.009626157455020644\n",
      "-0.009788373959391703\n",
      "-0.009876271113120134\n",
      "-0.010008827606877636\n",
      "-0.010019252709612292\n",
      "-0.010039408040194856\n",
      "-0.010054351378463852\n",
      "-0.010064315917024528\n",
      "-0.010211851083669983\n",
      "-0.010711131844356304\n",
      "-0.010892923914925738\n",
      "-0.011032378476939383\n",
      "-0.01103368475534885\n",
      "-0.011038909358385824\n",
      "-0.011109647384557234\n",
      "-0.011367407740911486\n",
      "-0.011396025671919125\n",
      "-0.011576112866562856\n",
      "-0.011671043983799468\n",
      "-0.01177676891404939\n",
      "-0.011798314895449209\n",
      "-0.011975621357532416\n",
      "-0.01215904647595946\n",
      "-0.012361826280778004\n",
      "-0.012650301721342879\n",
      "-0.012686138571466872\n",
      "-0.012881607998002911\n",
      "-0.013022547696703114\n",
      "-0.013033615749988616\n",
      "-0.013052658888810317\n",
      "-0.01320101429978803\n",
      "-0.01325153267350626\n",
      "-0.013289281818018165\n",
      "-0.013316000432644744\n",
      "-0.013364950931333962\n",
      "-0.013373333734966006\n",
      "-0.013446758104463103\n",
      "-0.01357920845516745\n",
      "-0.013615567766427883\n",
      "-0.01375471243608235\n",
      "-0.014281884005769086\n",
      "-0.014289971185108701\n",
      "-0.014772153605486005\n",
      "-0.014925304755979711\n",
      "-0.014942485297293993\n",
      "-0.015027058460603216\n",
      "-0.015045584719662239\n",
      "-0.015258054072527649\n",
      "-0.015379097049662343\n",
      "-0.015381912216667681\n",
      "-0.015397527306596975\n",
      "-0.015502170311423313\n",
      "-0.015523120650032238\n",
      "-0.015613146931717137\n",
      "-0.01577961186215792\n",
      "-0.015849242475728286\n",
      "-0.016303798919942027\n",
      "-0.016417727428847662\n",
      "-0.016528704049141463\n",
      "-0.016580380928901788\n",
      "-0.0166245342650832\n",
      "-0.016879678412515413\n",
      "-0.016938483395351644\n",
      "-0.01698648260785357\n",
      "-0.017072255461802247\n",
      "-0.017119081341348173\n",
      "-0.017159346650426805\n",
      "-0.017236594967687768\n",
      "-0.01750611644423859\n",
      "-0.017526122693063334\n",
      "-0.017540989127298158\n",
      "-0.017545327056210692\n",
      "-0.01768362428812815\n",
      "-0.01768994537092481\n",
      "-0.017707780659225004\n",
      "-0.017724133731342375\n",
      "-0.017871284762219216\n",
      "-0.017915698838650247\n",
      "-0.01807173306230136\n",
      "-0.01815623445896151\n",
      "-0.018205569799003448\n",
      "-0.018223119074379433\n",
      "-0.018251188544577135\n",
      "-0.018370275745882184\n",
      "-0.018443050749210453\n",
      "-0.01844787484586047\n",
      "-0.01846647452597794\n",
      "-0.018478022417766856\n",
      "-0.018504753293696934\n",
      "-0.018534322595628348\n",
      "-0.01864668347419268\n",
      "-0.01876387610717603\n",
      "-0.01876514392918294\n",
      "-0.018795661059897432\n",
      "-0.018812257986283543\n",
      "-0.018866844650650683\n",
      "-0.018976221316789058\n",
      "-0.01916001211248352\n",
      "-0.019173174385260183\n",
      "-0.019202375770761636\n",
      "-0.019203205539435407\n",
      "-0.01955627561235584\n",
      "-0.019607529386891046\n",
      "-0.01975442696727908\n",
      "-0.019799907750768012\n",
      "-0.019890927321042095\n",
      "-0.019933307484537966\n",
      "-0.019982733012253253\n",
      "-0.020102635448597354\n",
      "-0.020191422518058073\n",
      "-0.020235719210628837\n",
      "-0.020266971246506976\n",
      "-0.020357944138637892\n",
      "-0.02044763664454197\n",
      "-0.02049862835470887\n",
      "-0.020536314085921964\n",
      "-0.02072384256760589\n",
      "-0.02096352265920143\n",
      "-0.021009597371295107\n",
      "-0.021134233791336395\n",
      "-0.021187002120093768\n",
      "-0.021189722101483312\n",
      "-0.021409149549254335\n",
      "-0.021411675342070977\n",
      "-0.02143635530866058\n",
      "-0.02154691263778409\n",
      "-0.02166883629324322\n",
      "-0.021739817576714573\n",
      "-0.021790387251360236\n",
      "-0.021842593791462517\n",
      "-0.02185982062921076\n",
      "-0.02211603364102898\n",
      "-0.022145456147105676\n",
      "-0.022289871183391492\n",
      "-0.022304118165836644\n",
      "-0.02232289219145218\n",
      "-0.022378729980268946\n",
      "-0.022410464924715653\n",
      "-0.022493697389936042\n",
      "-0.022514794550660605\n",
      "-0.02258031436895802\n",
      "-0.022661771444482347\n",
      "-0.022792799398849765\n",
      "-0.022899047437692565\n",
      "-0.023072265088521816\n",
      "-0.023149231743961194\n",
      "-0.0232517031330901\n",
      "-0.023339630687101008\n",
      "-0.023342636135984075\n",
      "-0.023368449485867807\n",
      "-0.023646003957017523\n",
      "-0.02365645661012134\n",
      "-0.023780213936509458\n",
      "-0.02382579151403447\n",
      "-0.02385288496367517\n",
      "-0.023947331720767805\n",
      "-0.023977403948751634\n",
      "-0.023977403948751915\n",
      "-0.02399188176390314\n",
      "-0.024076978765549855\n",
      "-0.02408330464033071\n",
      "-0.02414752749400584\n",
      "-0.02422770708202748\n",
      "-0.024293298495392256\n",
      "-0.024311952340967866\n",
      "-0.024327144866809557\n",
      "-0.02441312094459208\n",
      "-0.024422918332921928\n",
      "-0.024470213467717817\n",
      "-0.024585417806117928\n",
      "-0.02461694665754872\n",
      "-0.02464618790948461\n",
      "-0.024810334338570255\n",
      "-0.024931145306233027\n",
      "-0.024940594224392477\n",
      "-0.025024175769346957\n",
      "-0.02507634948030706\n",
      "-0.0251125043528826\n",
      "-0.025132348736418023\n",
      "-0.02515532374522693\n",
      "-0.025175170771430406\n",
      "-0.025191374430511358\n",
      "-0.025223503891468064\n",
      "-0.02529946652067638\n",
      "-0.025312328183822768\n",
      "-0.025312902760154108\n",
      "-0.02538369383772997\n",
      "-0.025398929408634113\n",
      "-0.02546933262241866\n",
      "-0.025470199333773084\n",
      "-0.025497878883981483\n",
      "-0.025650481453606787\n",
      "-0.02573976353353147\n",
      "-0.0258046781135266\n",
      "-0.02585455513079704\n",
      "-0.02586461223136182\n",
      "-0.02590704126063033\n",
      "-0.02601021524465452\n",
      "-0.02604197055846191\n",
      "-0.026083367593021885\n",
      "-0.026105589211600284\n",
      "-0.026109588476701796\n",
      "-0.026231116806344896\n",
      "-0.026268627946179245\n",
      "-0.026293963957449054\n",
      "-0.026352645135987583\n",
      "-0.02646845177711938\n",
      "-0.02658252688464337\n",
      "-0.026725368131185333\n",
      "-0.026865764750035374\n",
      "-0.026911194581264154\n",
      "-0.027070538051273598\n",
      "-0.027215323051817262\n",
      "-0.027500359445331485\n",
      "-0.0275443798712344\n",
      "-0.027693050505763813\n",
      "-0.027834357283414327\n",
      "-0.027932513421345246\n",
      "-0.02794869540753381\n",
      "-0.028088758449945673\n",
      "-0.028101098163301082\n",
      "-0.028112924881373076\n",
      "-0.02816835512149704\n",
      "-0.028189172082266966\n",
      "-0.02831060155801206\n",
      "-0.028621769550893215\n",
      "-0.02865237847037074\n",
      "-0.029574712067693684\n",
      "-0.029921307239809104\n",
      "-0.031118362009588636\n",
      "-0.03206046874854764\n",
      "-0.1305946458689924\n"
     ]
    }
   ],
   "source": [
    "for i in correlation['current_value'].sort_values(ascending=False):\n",
    "    print(i)"
   ]
  },
  {
   "cell_type": "code",
   "execution_count": 130,
   "metadata": {},
   "outputs": [
    {
     "data": {
      "text/plain": [
       "Index(['age', 'appearance', 'assists', 'minutes played', 'games_injured',\n",
       "       'award', 'current_value', 'highest_value', 'team_Aston Villa',\n",
       "       'team_Atalanta BC', 'team_Chelsea FC', 'team_Newcastle United',\n",
       "       'team_SSC Napoli', 'team_Southampton FC'],\n",
       "      dtype='object')"
      ]
     },
     "execution_count": 130,
     "metadata": {},
     "output_type": "execute_result"
    }
   ],
   "source": [
    "# Set the correlation threshold\n",
    "threshold = 0.12  # You can change this value based on your requirement\n",
    "\n",
    "# Filter the correlations\n",
    "# We use `abs()` for absolute value to consider both strong positive and negative correlations\n",
    "selected_features = correlation[abs(correlation['current_value']) > threshold]['current_value'].index\n",
    "selected_features"
   ]
  },
  {
   "cell_type": "code",
   "execution_count": 131,
   "metadata": {},
   "outputs": [],
   "source": [
    "# selected_features = ['age', 'appearance', 'goals', 'assists', 'minutes played',\n",
    "#        'days_injured', 'games_injured', 'award', 'current_value',\n",
    "#        'highest_value', 'team_AFC Bournemouth', 'team_AS Monaco',\n",
    "#        'team_Arsenal FC', 'team_Aston Villa', 'team_Atalanta BC',\n",
    "#        'team_Brentford FC', 'team_Brighton &amp; Hove Albion',\n",
    "#        'team_Everton FC', 'team_Leeds United', 'team_Leicester City',\n",
    "#        'team_Nottingham Forest', 'team_Olympique Lyon', 'team_SL Benfica',\n",
    "#        'team_SS Lazio', 'team_Southampton FC', 'team_Stade Rennais FC',\n",
    "#        'team_VfL Wolfsburg']"
   ]
  },
  {
   "cell_type": "code",
   "execution_count": 132,
   "metadata": {},
   "outputs": [
    {
     "data": {
      "text/html": [
       "<div>\n",
       "<style scoped>\n",
       "    .dataframe tbody tr th:only-of-type {\n",
       "        vertical-align: middle;\n",
       "    }\n",
       "\n",
       "    .dataframe tbody tr th {\n",
       "        vertical-align: top;\n",
       "    }\n",
       "\n",
       "    .dataframe thead th {\n",
       "        text-align: right;\n",
       "    }\n",
       "</style>\n",
       "<table border=\"1\" class=\"dataframe\">\n",
       "  <thead>\n",
       "    <tr style=\"text-align: right;\">\n",
       "      <th></th>\n",
       "      <th>age</th>\n",
       "      <th>appearance</th>\n",
       "      <th>assists</th>\n",
       "      <th>minutes played</th>\n",
       "      <th>games_injured</th>\n",
       "      <th>award</th>\n",
       "      <th>current_value</th>\n",
       "      <th>highest_value</th>\n",
       "      <th>team_Aston Villa</th>\n",
       "      <th>team_Atalanta BC</th>\n",
       "      <th>team_Chelsea FC</th>\n",
       "      <th>team_Newcastle United</th>\n",
       "      <th>team_SSC Napoli</th>\n",
       "      <th>team_Southampton FC</th>\n",
       "    </tr>\n",
       "  </thead>\n",
       "  <tbody>\n",
       "    <tr>\n",
       "      <th>0</th>\n",
       "      <td>21.0</td>\n",
       "      <td>34.0</td>\n",
       "      <td>0.000000</td>\n",
       "      <td>2758.0</td>\n",
       "      <td>13.0</td>\n",
       "      <td>0.0</td>\n",
       "      <td>2000000.0</td>\n",
       "      <td>2000000.0</td>\n",
       "      <td>False</td>\n",
       "      <td>False</td>\n",
       "      <td>False</td>\n",
       "      <td>False</td>\n",
       "      <td>False</td>\n",
       "      <td>False</td>\n",
       "    </tr>\n",
       "    <tr>\n",
       "      <th>1</th>\n",
       "      <td>23.0</td>\n",
       "      <td>89.0</td>\n",
       "      <td>0.063096</td>\n",
       "      <td>7132.0</td>\n",
       "      <td>15.0</td>\n",
       "      <td>3.0</td>\n",
       "      <td>22000000.0</td>\n",
       "      <td>22000000.0</td>\n",
       "      <td>False</td>\n",
       "      <td>False</td>\n",
       "      <td>False</td>\n",
       "      <td>False</td>\n",
       "      <td>False</td>\n",
       "      <td>False</td>\n",
       "    </tr>\n",
       "    <tr>\n",
       "      <th>2</th>\n",
       "      <td>22.0</td>\n",
       "      <td>34.0</td>\n",
       "      <td>0.033507</td>\n",
       "      <td>2686.0</td>\n",
       "      <td>28.0</td>\n",
       "      <td>1.0</td>\n",
       "      <td>10000000.0</td>\n",
       "      <td>12000000.0</td>\n",
       "      <td>False</td>\n",
       "      <td>False</td>\n",
       "      <td>False</td>\n",
       "      <td>False</td>\n",
       "      <td>False</td>\n",
       "      <td>False</td>\n",
       "    </tr>\n",
       "    <tr>\n",
       "      <th>3</th>\n",
       "      <td>24.0</td>\n",
       "      <td>72.0</td>\n",
       "      <td>0.048439</td>\n",
       "      <td>5574.0</td>\n",
       "      <td>49.0</td>\n",
       "      <td>3.0</td>\n",
       "      <td>35000000.0</td>\n",
       "      <td>35000000.0</td>\n",
       "      <td>False</td>\n",
       "      <td>False</td>\n",
       "      <td>False</td>\n",
       "      <td>False</td>\n",
       "      <td>False</td>\n",
       "      <td>False</td>\n",
       "    </tr>\n",
       "    <tr>\n",
       "      <th>4</th>\n",
       "      <td>25.0</td>\n",
       "      <td>60.0</td>\n",
       "      <td>0.018817</td>\n",
       "      <td>4783.0</td>\n",
       "      <td>20.0</td>\n",
       "      <td>1.0</td>\n",
       "      <td>22000000.0</td>\n",
       "      <td>40000000.0</td>\n",
       "      <td>False</td>\n",
       "      <td>False</td>\n",
       "      <td>False</td>\n",
       "      <td>False</td>\n",
       "      <td>False</td>\n",
       "      <td>False</td>\n",
       "    </tr>\n",
       "  </tbody>\n",
       "</table>\n",
       "</div>"
      ],
      "text/plain": [
       "    age  appearance   assists  minutes played  games_injured  award  \\\n",
       "0  21.0        34.0  0.000000          2758.0           13.0    0.0   \n",
       "1  23.0        89.0  0.063096          7132.0           15.0    3.0   \n",
       "2  22.0        34.0  0.033507          2686.0           28.0    1.0   \n",
       "3  24.0        72.0  0.048439          5574.0           49.0    3.0   \n",
       "4  25.0        60.0  0.018817          4783.0           20.0    1.0   \n",
       "\n",
       "   current_value  highest_value  team_Aston Villa  team_Atalanta BC  \\\n",
       "0      2000000.0      2000000.0             False             False   \n",
       "1     22000000.0     22000000.0             False             False   \n",
       "2     10000000.0     12000000.0             False             False   \n",
       "3     35000000.0     35000000.0             False             False   \n",
       "4     22000000.0     40000000.0             False             False   \n",
       "\n",
       "   team_Chelsea FC  team_Newcastle United  team_SSC Napoli  \\\n",
       "0            False                  False            False   \n",
       "1            False                  False            False   \n",
       "2            False                  False            False   \n",
       "3            False                  False            False   \n",
       "4            False                  False            False   \n",
       "\n",
       "   team_Southampton FC  \n",
       "0                False  \n",
       "1                False  \n",
       "2                False  \n",
       "3                False  \n",
       "4                False  "
      ]
     },
     "execution_count": 132,
     "metadata": {},
     "output_type": "execute_result"
    }
   ],
   "source": [
    "df = df[selected_features]\n",
    "df.head()"
   ]
  },
  {
   "cell_type": "markdown",
   "metadata": {},
   "source": [
    "#### 4. Prepare train and test data"
   ]
  },
  {
   "cell_type": "code",
   "execution_count": 133,
   "metadata": {},
   "outputs": [],
   "source": [
    "# Prepare data\n",
    "X = df.drop(['current_value'], axis=1)\n",
    "y = df['current_value']\n",
    "\n",
    "# Split data into training and testing sets\n",
    "X_train, X_test, y_train, y_test = train_test_split(X, y,\n",
    "                                                    test_size=0.2,\n",
    "                                                    shuffle=True,\n",
    "                                                    random_state=42)\n",
    "\n",
    "# sacle the data\n",
    "scaler = StandardScaler()\n",
    "scaler.fit(X_train)\n",
    "X_train_scaled = scaler.transform(X_train)\n",
    "X_test_scaled = scaler.transform(X_test)"
   ]
  },
  {
   "cell_type": "code",
   "execution_count": 134,
   "metadata": {},
   "outputs": [
    {
     "data": {
      "text/plain": [
       "(6394, 13)"
      ]
     },
     "execution_count": 134,
     "metadata": {},
     "output_type": "execute_result"
    }
   ],
   "source": [
    "X.shape"
   ]
  },
  {
   "cell_type": "markdown",
   "metadata": {},
   "source": [
    "## Buliding the Model"
   ]
  },
  {
   "cell_type": "code",
   "execution_count": 135,
   "metadata": {},
   "outputs": [],
   "source": [
    "model = LinearRegression()"
   ]
  },
  {
   "cell_type": "markdown",
   "metadata": {},
   "source": [
    "## Train the Model"
   ]
  },
  {
   "cell_type": "code",
   "execution_count": 136,
   "metadata": {},
   "outputs": [
    {
     "data": {
      "text/html": [
       "<style>#sk-container-id-3 {color: black;}#sk-container-id-3 pre{padding: 0;}#sk-container-id-3 div.sk-toggleable {background-color: white;}#sk-container-id-3 label.sk-toggleable__label {cursor: pointer;display: block;width: 100%;margin-bottom: 0;padding: 0.3em;box-sizing: border-box;text-align: center;}#sk-container-id-3 label.sk-toggleable__label-arrow:before {content: \"▸\";float: left;margin-right: 0.25em;color: #696969;}#sk-container-id-3 label.sk-toggleable__label-arrow:hover:before {color: black;}#sk-container-id-3 div.sk-estimator:hover label.sk-toggleable__label-arrow:before {color: black;}#sk-container-id-3 div.sk-toggleable__content {max-height: 0;max-width: 0;overflow: hidden;text-align: left;background-color: #f0f8ff;}#sk-container-id-3 div.sk-toggleable__content pre {margin: 0.2em;color: black;border-radius: 0.25em;background-color: #f0f8ff;}#sk-container-id-3 input.sk-toggleable__control:checked~div.sk-toggleable__content {max-height: 200px;max-width: 100%;overflow: auto;}#sk-container-id-3 input.sk-toggleable__control:checked~label.sk-toggleable__label-arrow:before {content: \"▾\";}#sk-container-id-3 div.sk-estimator input.sk-toggleable__control:checked~label.sk-toggleable__label {background-color: #d4ebff;}#sk-container-id-3 div.sk-label input.sk-toggleable__control:checked~label.sk-toggleable__label {background-color: #d4ebff;}#sk-container-id-3 input.sk-hidden--visually {border: 0;clip: rect(1px 1px 1px 1px);clip: rect(1px, 1px, 1px, 1px);height: 1px;margin: -1px;overflow: hidden;padding: 0;position: absolute;width: 1px;}#sk-container-id-3 div.sk-estimator {font-family: monospace;background-color: #f0f8ff;border: 1px dotted black;border-radius: 0.25em;box-sizing: border-box;margin-bottom: 0.5em;}#sk-container-id-3 div.sk-estimator:hover {background-color: #d4ebff;}#sk-container-id-3 div.sk-parallel-item::after {content: \"\";width: 100%;border-bottom: 1px solid gray;flex-grow: 1;}#sk-container-id-3 div.sk-label:hover label.sk-toggleable__label {background-color: #d4ebff;}#sk-container-id-3 div.sk-serial::before {content: \"\";position: absolute;border-left: 1px solid gray;box-sizing: border-box;top: 0;bottom: 0;left: 50%;z-index: 0;}#sk-container-id-3 div.sk-serial {display: flex;flex-direction: column;align-items: center;background-color: white;padding-right: 0.2em;padding-left: 0.2em;position: relative;}#sk-container-id-3 div.sk-item {position: relative;z-index: 1;}#sk-container-id-3 div.sk-parallel {display: flex;align-items: stretch;justify-content: center;background-color: white;position: relative;}#sk-container-id-3 div.sk-item::before, #sk-container-id-3 div.sk-parallel-item::before {content: \"\";position: absolute;border-left: 1px solid gray;box-sizing: border-box;top: 0;bottom: 0;left: 50%;z-index: -1;}#sk-container-id-3 div.sk-parallel-item {display: flex;flex-direction: column;z-index: 1;position: relative;background-color: white;}#sk-container-id-3 div.sk-parallel-item:first-child::after {align-self: flex-end;width: 50%;}#sk-container-id-3 div.sk-parallel-item:last-child::after {align-self: flex-start;width: 50%;}#sk-container-id-3 div.sk-parallel-item:only-child::after {width: 0;}#sk-container-id-3 div.sk-dashed-wrapped {border: 1px dashed gray;margin: 0 0.4em 0.5em 0.4em;box-sizing: border-box;padding-bottom: 0.4em;background-color: white;}#sk-container-id-3 div.sk-label label {font-family: monospace;font-weight: bold;display: inline-block;line-height: 1.2em;}#sk-container-id-3 div.sk-label-container {text-align: center;}#sk-container-id-3 div.sk-container {/* jupyter's `normalize.less` sets `[hidden] { display: none; }` but bootstrap.min.css set `[hidden] { display: none !important; }` so we also need the `!important` here to be able to override the default hidden behavior on the sphinx rendered scikit-learn.org. See: https://github.com/scikit-learn/scikit-learn/issues/21755 */display: inline-block !important;position: relative;}#sk-container-id-3 div.sk-text-repr-fallback {display: none;}</style><div id=\"sk-container-id-3\" class=\"sk-top-container\"><div class=\"sk-text-repr-fallback\"><pre>LinearRegression()</pre><b>In a Jupyter environment, please rerun this cell to show the HTML representation or trust the notebook. <br />On GitHub, the HTML representation is unable to render, please try loading this page with nbviewer.org.</b></div><div class=\"sk-container\" hidden><div class=\"sk-item\"><div class=\"sk-estimator sk-toggleable\"><input class=\"sk-toggleable__control sk-hidden--visually\" id=\"sk-estimator-id-3\" type=\"checkbox\" checked><label for=\"sk-estimator-id-3\" class=\"sk-toggleable__label sk-toggleable__label-arrow\">LinearRegression</label><div class=\"sk-toggleable__content\"><pre>LinearRegression()</pre></div></div></div></div></div>"
      ],
      "text/plain": [
       "LinearRegression()"
      ]
     },
     "execution_count": 136,
     "metadata": {},
     "output_type": "execute_result"
    }
   ],
   "source": [
    "# Fit the model on the training data\n",
    "model.fit(X_train_scaled, y_train)"
   ]
  },
  {
   "cell_type": "markdown",
   "metadata": {},
   "source": [
    "## Test the Model"
   ]
  },
  {
   "cell_type": "code",
   "execution_count": 137,
   "metadata": {},
   "outputs": [],
   "source": [
    "# Predict and evaluate the model\n",
    "y_pred = model.predict(X_test_scaled)"
   ]
  },
  {
   "cell_type": "markdown",
   "metadata": {},
   "source": [
    "## Interpretation of the Model"
   ]
  },
  {
   "cell_type": "code",
   "execution_count": 138,
   "metadata": {},
   "outputs": [],
   "source": [
    "# model.coef_"
   ]
  },
  {
   "cell_type": "code",
   "execution_count": 139,
   "metadata": {},
   "outputs": [],
   "source": [
    "# coeff_df = pd.DataFrame(model.coef_,X.columns,columns=['Coefficient'])\n",
    "# coeff_df"
   ]
  },
  {
   "cell_type": "code",
   "execution_count": 140,
   "metadata": {},
   "outputs": [],
   "source": [
    "# print(model.intercept_) "
   ]
  },
  {
   "cell_type": "code",
   "execution_count": 141,
   "metadata": {
    "scrolled": true
   },
   "outputs": [],
   "source": [
    "# coeff_df = pd.DataFrame(lasso_model.coef_,X.columns,columns=['Coefficient'])\n",
    "# coeff_df"
   ]
  },
  {
   "cell_type": "markdown",
   "metadata": {
    "jp-MarkdownHeadingCollapsed": true
   },
   "source": [
    "## Evaluating the Model "
   ]
  },
  {
   "cell_type": "markdown",
   "metadata": {},
   "source": [
    "1. Mean Square Error"
   ]
  },
  {
   "cell_type": "code",
   "execution_count": 142,
   "metadata": {},
   "outputs": [],
   "source": [
    "y_base = [y_train.mean()] * len(y_test)"
   ]
  },
  {
   "cell_type": "code",
   "execution_count": 143,
   "metadata": {},
   "outputs": [
    {
     "name": "stdout",
     "output_type": "stream",
     "text": [
      "Mean Squared Error of base model: 36330562505749.086\n"
     ]
    }
   ],
   "source": [
    "# our benchmark model\n",
    "mse_base = mean_squared_error(y_test, y_base )\n",
    "print(f'Mean Squared Error of base model: {mse_base}')"
   ]
  },
  {
   "cell_type": "code",
   "execution_count": 144,
   "metadata": {},
   "outputs": [
    {
     "name": "stdout",
     "output_type": "stream",
     "text": [
      "Mean Squared Error for training: 5689794985657.69\n",
      "Mean Squared Error for testing: 5856301317688.708\n"
     ]
    }
   ],
   "source": [
    "mse_train = mean_squared_error(y_train, model.predict(X_train_scaled))\n",
    "mse_test = mean_squared_error(y_test, y_pred)\n",
    "print(f'Mean Squared Error for training: {mse_train}')\n",
    "print(f'Mean Squared Error for testing: {mse_test}')"
   ]
  },
  {
   "cell_type": "markdown",
   "metadata": {},
   "source": [
    "2. Mean Absolute Error"
   ]
  },
  {
   "cell_type": "code",
   "execution_count": 145,
   "metadata": {},
   "outputs": [
    {
     "name": "stdout",
     "output_type": "stream",
     "text": [
      "Mean Absolute  Error of base model: 3412855.404660746\n"
     ]
    }
   ],
   "source": [
    "# our benchmark model\n",
    "mse_base = mean_absolute_error(y_test, y_base )\n",
    "print(f'Mean Absolute  Error of base model: {mse_base}')"
   ]
  },
  {
   "cell_type": "code",
   "execution_count": 146,
   "metadata": {},
   "outputs": [
    {
     "name": "stdout",
     "output_type": "stream",
     "text": [
      "Mean Absolute Error for training: 1368029.4767009604\n",
      "Mean Absolute Error for testing: 1406289.4102534316\n"
     ]
    }
   ],
   "source": [
    "mae_train = mean_absolute_error(y_train, model.predict(X_train_scaled))\n",
    "mae_test = mean_absolute_error(y_test, y_pred)\n",
    "print(f'Mean Absolute Error for training: {mae_train}')\n",
    "print(f'Mean Absolute Error for testing: {mae_test}')"
   ]
  },
  {
   "cell_type": "markdown",
   "metadata": {},
   "source": [
    "3. Root Mean Squared Error"
   ]
  },
  {
   "cell_type": "code",
   "execution_count": 147,
   "metadata": {},
   "outputs": [
    {
     "name": "stdout",
     "output_type": "stream",
     "text": [
      "Root Mean Squared  Error of base model: 1847.3915136377416\n"
     ]
    }
   ],
   "source": [
    "# our benchmark model\n",
    "print(f'Root Mean Squared  Error of base model: {np.sqrt(mse_base)}')"
   ]
  },
  {
   "cell_type": "code",
   "execution_count": 148,
   "metadata": {},
   "outputs": [
    {
     "name": "stdout",
     "output_type": "stream",
     "text": [
      "Root Mean Squared Error for training: 2385329.1147465776\n",
      "Root Mean Squared Error for testing: 2419979.611006818\n"
     ]
    }
   ],
   "source": [
    "print(f'Root Mean Squared Error for training: {np.sqrt(mse_train)}')\n",
    "print(f'Root Mean Squared Error for testing: {np.sqrt(mse_test)}')"
   ]
  },
  {
   "cell_type": "markdown",
   "metadata": {},
   "source": [
    "4. R Square"
   ]
  },
  {
   "cell_type": "code",
   "execution_count": 149,
   "metadata": {},
   "outputs": [
    {
     "name": "stdout",
     "output_type": "stream",
     "text": [
      "R Square for training: 0.7836504780980431\n",
      "R Square for testing: 0.8380963199164677\n"
     ]
    }
   ],
   "source": [
    "r2_score_train = r2_score(y_train, model.predict(X_train_scaled))\n",
    "r2_score_test = r2_score(y_test, y_pred)\n",
    "print(f'R Square for training: {r2_score_train}')\n",
    "print(f'R Square for testing: {r2_score_test}')"
   ]
  },
  {
   "cell_type": "markdown",
   "metadata": {},
   "source": [
    "#### Predictions vs. Real Values"
   ]
  },
  {
   "cell_type": "code",
   "execution_count": 150,
   "metadata": {},
   "outputs": [
    {
     "data": {
      "text/plain": [
       "array([ 173067.87719022,  418749.42332274, 2047993.69172177, ...,\n",
       "       1655352.3977698 , 7147488.5637511 , 2555713.38492261])"
      ]
     },
     "execution_count": 150,
     "metadata": {},
     "output_type": "execute_result"
    }
   ],
   "source": [
    "predictions = model.predict(X_test_scaled)\n",
    "predictions"
   ]
  },
  {
   "cell_type": "code",
   "execution_count": 151,
   "metadata": {},
   "outputs": [
    {
     "data": {
      "text/plain": [
       "array([ 250000.,  300000., 1500000., ...,  900000., 8000000., 2300000.])"
      ]
     },
     "execution_count": 151,
     "metadata": {},
     "output_type": "execute_result"
    }
   ],
   "source": [
    "Real_Values = np.array(y_test)\n",
    "Real_Values"
   ]
  },
  {
   "cell_type": "code",
   "execution_count": 152,
   "metadata": {},
   "outputs": [
    {
     "data": {
      "image/png": "[encoded data removed]",
      "text/plain": [
       "<Figure size 640x480 with 1 Axes>"
      ]
     },
     "metadata": {},
     "output_type": "display_data"
    }
   ],
   "source": [
    "plt.scatter(Real_Values,predictions); "
   ]
  },
  {
   "cell_type": "markdown",
   "metadata": {},
   "source": [
    "#### Residual Histogram"
   ]
  },
  {
   "cell_type": "code",
   "execution_count": 153,
   "metadata": {},
   "outputs": [
    {
     "data": {
      "image/png": "[encoded data removed]",
      "text/plain": [
       "<Figure size 640x480 with 1 Axes>"
      ]
     },
     "metadata": {},
     "output_type": "display_data"
    }
   ],
   "source": [
    "sns.distplot((y_test-predictions),bins=50); # it's good if we get normal distribution"
   ]
  },
  {
   "cell_type": "code",
   "execution_count": null,
   "metadata": {},
   "outputs": [],
   "source": []
  }
 ],
 "metadata": {
  "kernelspec": {
   "display_name": "base",
   "language": "python",
   "name": "python3"
  },
  "language_info": {
   "codemirror_mode": {
    "name": "ipython",
    "version": 3
   },
   "file_extension": ".py",
   "mimetype": "text/x-python",
   "name": "python",
   "nbconvert_exporter": "python",
   "pygments_lexer": "ipython3",
   "version": "3.11.5"
  }
 },
 "nbformat": 4,
 "nbformat_minor": 4
}
